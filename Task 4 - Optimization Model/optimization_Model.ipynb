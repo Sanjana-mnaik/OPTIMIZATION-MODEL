{
 "cells": [
  {
   "cell_type": "markdown",
   "id": "a73a96b7",
   "metadata": {},
   "source": [
    "# Task 4: Optimization Model – Maximizing Profit in Furniture Production\n",
    "\n"
   ]
  },
  {
   "cell_type": "code",
   "execution_count": 5,
   "id": "095390e1",
   "metadata": {},
   "outputs": [],
   "source": [
    "# Import PuLP library\n",
    "from pulp import LpMaximize, LpProblem, LpVariable, value\n",
    "\n"
   ]
  },
  {
   "cell_type": "markdown",
   "id": "28b1b520",
   "metadata": {},
   "source": [
    "## 🪑 Problem Statement\n",
    "\n",
    "A furniture manufacturer produces **Chairs** and **Tables**.\n",
    "\n",
    "- **Chairs Profit**: ₹50  \n",
    "- **Tables Profit**: ₹60  \n",
    "\n",
    "Each product requires:\n",
    "\n",
    "| Product | Wood Units | Labor Hours |\n",
    "|---------|------------|-------------|\n",
    "| Chair   | 2          | 3           |\n",
    "| Table   | 3          | 2           |\n",
    "\n",
    "Available resources:\n",
    "\n",
    "- Max **Wood**: 100 units  \n",
    "- Max **Labor**: 120 hours  \n",
    "\n",
    "### 🎯 Objective:\n",
    "Maximize profit by determining the optimal number of chairs and tables to produce.\n"
   ]
  },
  {
   "cell_type": "code",
   "execution_count": 9,
   "id": "9442fb7e",
   "metadata": {},
   "outputs": [
    {
     "name": "stdout",
     "output_type": "stream",
     "text": [
      "Running optimization model...\n"
     ]
    },
    {
     "data": {
      "text/plain": [
       "1"
      ]
     },
     "execution_count": 9,
     "metadata": {},
     "output_type": "execute_result"
    }
   ],
   "source": [
    "from pulp import *\n",
    "\n",
    "print(\"Running optimization model...\")\n",
    "\n",
    "# Step 1: Define the problem\n",
    "model = LpProblem(\"Maximize_Profit\", LpMaximize)\n",
    "\n",
    "# Step 2: Define decision variables\n",
    "chairs = LpVariable(\"Chairs\", lowBound=0, cat='Integer')\n",
    "tables = LpVariable(\"Tables\", lowBound=0, cat='Integer')\n",
    "\n",
    "# Step 3: Define the objective function\n",
    "model += 50 * chairs + 60 * tables, \"Total_Profit\"\n",
    "\n",
    "# Step 4: Add constraints\n",
    "model += 2 * chairs + 3 * tables <= 100, \"Wood_Constraint\"\n",
    "model += 3 * chairs + 2 * tables <= 120, \"Labor_Constraint\"\n",
    "\n",
    "# Step 5: Solve\n",
    "model.solve()\n",
    "\n",
    "\n"
   ]
  },
  {
   "cell_type": "code",
   "execution_count": 10,
   "id": "b46feed6",
   "metadata": {},
   "outputs": [
    {
     "name": "stdout",
     "output_type": "stream",
     "text": [
      "Status: 1\n",
      "Chairs to produce: 32.0\n",
      "Tables to produce: 12.0\n",
      "Maximum Profit: ₹ 2320.0\n"
     ]
    }
   ],
   "source": [
    "# Step 6: Print results\n",
    "print(f\"Status: {model.status}\")\n",
    "print(f\"Chairs to produce: {chairs.value()}\")\n",
    "print(f\"Tables to produce: {tables.value()}\")\n",
    "print(f\"Maximum Profit: ₹ {value(model.objective)}\")"
   ]
  },
  {
   "cell_type": "markdown",
   "id": "0a2358b8",
   "metadata": {},
   "source": [
    "## ✅ Conclusion\n",
    "\n",
    "- The model finds the **optimal number of chairs and tables** to produce within the given constraints.\n",
    "- This solution maximizes profit while staying within the limits of available **wood** and **labor**.\n",
    "\n"
   ]
  },
  {
   "cell_type": "markdown",
   "id": "052c979f",
   "metadata": {},
   "source": []
  }
 ],
 "metadata": {
  "kernelspec": {
   "display_name": "Python 3",
   "language": "python",
   "name": "python3"
  },
  "language_info": {
   "codemirror_mode": {
    "name": "ipython",
    "version": 3
   },
   "file_extension": ".py",
   "mimetype": "text/x-python",
   "name": "python",
   "nbconvert_exporter": "python",
   "pygments_lexer": "ipython3",
   "version": "3.13.5"
  }
 },
 "nbformat": 4,
 "nbformat_minor": 5
}
